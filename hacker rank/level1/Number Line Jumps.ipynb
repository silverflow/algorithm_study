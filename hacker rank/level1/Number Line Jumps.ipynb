{
 "cells": [
  {
   "cell_type": "markdown",
   "source": [
    "# Number Line Jumps"
   ],
   "metadata": {}
  },
  {
   "cell_type": "markdown",
   "source": [
    "## 문제 설명"
   ],
   "metadata": {}
  },
  {
   "cell_type": "markdown",
   "source": [
    "You are choreographing a circus show with various animals. For one act, you are given two kangaroos on a number line ready to jump in the positive direction (i.e, toward positive infinity).\n",
    "\n",
    "    The first kangaroo starts at location \n",
    "\n",
    "and moves at a rate of\n",
    "meters per jump.\n",
    "The second kangaroo starts at location\n",
    "and moves at a rate of\n",
    "\n",
    "    meters per jump.\n",
    "\n",
    "You have to figure out a way to get both kangaroos at the same location at the same time as part of the show. If it is possible, return YES, otherwise return NO. "
   ],
   "metadata": {}
  },
  {
   "cell_type": "markdown",
   "source": [
    "## 함수 설명"
   ],
   "metadata": {}
  },
  {
   "cell_type": "markdown",
   "source": [
    "Complete the function kangaroo in the editor below.\n",
    "\n",
    "kangaroo has the following parameter(s):\n",
    "\n",
    "    int x1, int v1: starting position and jump distance for kangaroo 1\n",
    "    int x2, int v2: starting position and jump distance for kangaroo 2\n"
   ],
   "metadata": {}
  },
  {
   "cell_type": "markdown",
   "source": [
    "## 리턴"
   ],
   "metadata": {}
  },
  {
   "cell_type": "markdown",
   "source": [
    "    string: either YES or NO"
   ],
   "metadata": {}
  },
  {
   "cell_type": "markdown",
   "source": [
    "## 출력"
   ],
   "metadata": {}
  },
  {
   "cell_type": "markdown",
   "source": [
    "input : ```0 3 4 2```\n",
    "output : ```YES```"
   ],
   "metadata": {}
  },
  {
   "cell_type": "markdown",
   "source": [
    "## 문제풀이"
   ],
   "metadata": {}
  },
  {
   "cell_type": "code",
   "execution_count": 2,
   "source": [
    "def kangaroo(x1, v1, x2, v2):\n",
    "    # Write your code here\n",
    "    for i in range(2,10001):\n",
    "        x1 += v1\n",
    "        x2 += v2\n",
    "        if x1 == x2:\n",
    "            return \"YES\"\n",
    "    return \"NO\""
   ],
   "outputs": [],
   "metadata": {}
  },
  {
   "cell_type": "markdown",
   "source": [
    "- 같이 점프하는 것이 핵심, 출발점과 뛰는 거리가 다른 두 캥거루가 같이 점프하면서 동일 선상에 있는 순간이 한번이라도 있으면 YES, 아니면 NO를 리턴해주면 된다.\n",
    "- 일단 제한조건에 x1,x2,y1,y2가 10000까지라고 써있어서 10000까지 for루프를 돌렸지만 이러면 무조건 10000번의 연산을 해야하므로 중간에 return하는 조건문을 만들면 속도를 개선할 수 있다.\n",
    "- 예를들면 v1캥거루가 v2를 앞서가는 순간"
   ],
   "metadata": {}
  }
 ],
 "metadata": {
  "orig_nbformat": 4,
  "language_info": {
   "name": "python",
   "version": "3.8.3",
   "mimetype": "text/x-python",
   "codemirror_mode": {
    "name": "ipython",
    "version": 3
   },
   "pygments_lexer": "ipython3",
   "nbconvert_exporter": "python",
   "file_extension": ".py"
  },
  "kernelspec": {
   "name": "python3",
   "display_name": "Python 3.8.3 64-bit ('base': conda)"
  },
  "interpreter": {
   "hash": "0d0f1ab1355a40fcf8dfd902ecd96580aebdbd2b735ef930594a0d03152e2824"
  }
 },
 "nbformat": 4,
 "nbformat_minor": 2
}