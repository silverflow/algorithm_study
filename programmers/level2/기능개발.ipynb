{
 "cells": [
  {
   "cell_type": "markdown",
   "source": [
    "## 문제 설명\n",
    "프로그래머스 팀에서는 기능 개선 작업을 수행 중입니다. 각 기능은 진도가 100%일 때 서비스에 반영할 수 있습니다.  \n",
    "또, 각 기능의 개발속도는 모두 다르기 때문에 뒤에 있는 기능이 앞에 있는 기능보다 먼저 개발될 수 있고, 이때 뒤에 있는 기능은 앞에 있는 기능이 배포될 때 함께 배포됩니다.  \n",
    "먼저 배포되어야 하는 순서대로 작업의 진도가 적힌 정수 배열 progresses와 각 작업의 개발 속도가 적힌 정수 배열 speeds가 주어질 때 각 배포마다 몇 개의 기능이 배포되는지를 return 하도록 solution 함수를 완성하세요."
   ],
   "metadata": {}
  },
  {
   "cell_type": "markdown",
   "source": [
    "## 제한사항\n",
    "- 작업의 개수(progresses, speeds배열의 길이)는 100개 이하입니다.\n",
    "- 작업 진도는 100 미만의 자연수입니다.\n",
    "- 작업 속도는 100 이하의 자연수입니다.\n",
    "- 배포는 하루에 한 번만 할 수 있으며, 하루의 끝에 이루어진다고 가정합니다. 예를 들어 진도율이 95%인 작업의 개발 속도가 하루에 4%라면 배포는 2일 뒤에 이루어집니다."
   ],
   "metadata": {}
  },
  {
   "cell_type": "markdown",
   "source": [
    "## 입출력 예\n",
    "|progresses|speeds|return|\n",
    "|----------|------|------|\n",
    "|[93, 30, 55]|[1, 30, 5]|[2, 1]|\n",
    "|[95, 90, 99, 99, 80, 99]|[1, 1, 1, 1, 1, 1]|[1, 3, 2]|"
   ],
   "metadata": {}
  },
  {
   "cell_type": "markdown",
   "source": [
    "## 입출력 예 설명\n",
    "\n",
    "입출력 예 #1첫 번째 기능은 93% 완료되어 있고 하루에 1%씩 작업이 가능하므로 7일간 작업 후 배포가 가능합니다.두 번째 기능은 30%가 완료되어 있고 하루에 30%씩 작업이 가능하므로 3일간 작업 후 배포가 가능합니다. 하지만 이전 첫 번째 기능이 아직 완성된 상태가 아니기 때문에 첫 번째 기능이 배포되는 7일째 배포됩니다.세 번째 기능은 55%가 완료되어 있고 하루에 5%씩 작업이 가능하므로 9일간 작업 후 배포가 가능합니다.\n",
    "\n",
    "따라서 7일째에 2개의 기능, 9일째에 1개의 기능이 배포됩니다.\n",
    "\n",
    "입출력 예 #2모든 기능이 하루에 1%씩 작업이 가능하므로, 작업이 끝나기까지 남은 일수는 각각 5일, 10일, 1일, 1일, 20일, 1일입니다. 어떤 기능이 먼저 완성되었더라도 앞에 있는 모든 기능이 완성되지 않으면 배포가 불가능합니다.\n",
    "\n",
    "따라서 5일째에 1개의 기능, 10일째에 3개의 기능, 20일째에 2개의 기능이 배포됩니다."
   ],
   "metadata": {}
  },
  {
   "cell_type": "markdown",
   "source": [
    "## 문제풀이"
   ],
   "metadata": {}
  },
  {
   "cell_type": "code",
   "execution_count": 11,
   "source": [
    "import math\n",
    "def solution(progresses, speeds):\n",
    "    p = [math.ceil((100-a)/b) for a, b in zip(progresses, speeds)]\n",
    "    answer = []\n",
    "    ck = 0\n",
    "    for idx in range(len(p)):\n",
    "        if p[idx] > p[ck]:\n",
    "            answer.append(idx - ck)\n",
    "            ck = idx\n",
    "    answer.append(len(p) - ck)\n",
    "        \n",
    "    return answer"
   ],
   "outputs": [],
   "metadata": {}
  },
  {
   "cell_type": "code",
   "execution_count": 12,
   "source": [
    "solution([93,30,55], [1,30,5])"
   ],
   "outputs": [
    {
     "output_type": "execute_result",
     "data": {
      "text/plain": [
       "[2, 1]"
      ]
     },
     "metadata": {},
     "execution_count": 12
    }
   ],
   "metadata": {}
  },
  {
   "cell_type": "markdown",
   "source": [
    "- 가장 먼저 p라는 몇 일째가 걸리는지에 대한 리스트를 만든다.\n",
    "- ceil은 일수가 소수점일 경우 올림을 하기 위해서 쓴 함수\n",
    "- 이 며칠이 걸리는 리스트에서 0번째 리스트보다 더 큰 숫자를 만나면 그 일짜까지의 리스트를 일수로 answer에 넣는다.\n",
    "- 예를들어 진행률[93,30,55]에 스피드가 [1,30,5]인 p [7,3,9]는 7보다 큰 9일을 만나기까지 2일의 배포일, 그리고 9가 배포되는 1일의 배포일 합쳐서 [2,1]의 리턴 값을 갖는다."
   ],
   "metadata": {}
  }
 ],
 "metadata": {
  "orig_nbformat": 4,
  "language_info": {
   "name": "python",
   "version": "3.8.3",
   "mimetype": "text/x-python",
   "codemirror_mode": {
    "name": "ipython",
    "version": 3
   },
   "pygments_lexer": "ipython3",
   "nbconvert_exporter": "python",
   "file_extension": ".py"
  },
  "kernelspec": {
   "name": "python3",
   "display_name": "Python 3.8.3 64-bit ('base': conda)"
  },
  "interpreter": {
   "hash": "0d0f1ab1355a40fcf8dfd902ecd96580aebdbd2b735ef930594a0d03152e2824"
  }
 },
 "nbformat": 4,
 "nbformat_minor": 2
}