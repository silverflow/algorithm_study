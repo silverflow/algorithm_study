{
 "cells": [
  {
   "cell_type": "markdown",
   "source": [
    "## 문제 설명"
   ],
   "metadata": {}
  },
  {
   "cell_type": "markdown",
   "source": [
    "124 나라가 있습니다. 124 나라에서는 10진법이 아닌 다음과 같은 자신들만의 규칙으로 수를 표현합니다.\n",
    "\n",
    "124 나라에는 자연수만 존재합니다.\n",
    "124 나라에는 모든 수를 표현할 때 1, 2, 4만 사용합니다.\n",
    "예를 들어서 124 나라에서 사용하는 숫자는 다음과 같이 변환됩니다."
   ],
   "metadata": {}
  },
  {
   "cell_type": "markdown",
   "source": [
    "|10진법|124나라|10진법|124 나라|\n",
    "|------|-------|------|--------|\n",
    "|1|1|6|14|\n",
    "|2|2|7|21|\n",
    "|3|4|8|22|\n",
    "|4|11|9|24|\n",
    "|5|12|10|41|\n",
    "\n",
    "자연수 n이 매개변수로 주어질 때, n을 124 나라에서 사용하는 숫자로 바꾼 값을 return 하도록 solution 함수를 완성해 주세요.\n"
   ],
   "metadata": {}
  },
  {
   "cell_type": "markdown",
   "source": [
    "## 제한사항\n",
    "- n은 500,000,000이하의 자연수 입니다."
   ],
   "metadata": {}
  },
  {
   "cell_type": "markdown",
   "source": [
    "## 입출력 예"
   ],
   "metadata": {}
  },
  {
   "cell_type": "markdown",
   "source": [
    "|n|result|\n",
    "|-|------|\n",
    "|1|1|\n",
    "|2|2|\n",
    "|3|4|\n",
    "|4|11|"
   ],
   "metadata": {}
  },
  {
   "cell_type": "markdown",
   "source": [
    "## 문제풀이"
   ],
   "metadata": {}
  },
  {
   "cell_type": "markdown",
   "source": [
    "10진수를 2진수로 바꾸는 알고리즘과 유사하다."
   ],
   "metadata": {}
  },
  {
   "cell_type": "code",
   "execution_count": 5,
   "source": [
    "def solution(n):\n",
    "    numbers = ['4','1','2']\n",
    "    \n",
    "    answer = ''\n",
    "    \n",
    "    while n:\n",
    "        answer = numbers[n%3] + answer\n",
    "        print(answer)\n",
    "        n = n // 3 - (n%3 == 0)\n",
    "    \n",
    "    return answer"
   ],
   "outputs": [],
   "metadata": {}
  },
  {
   "cell_type": "code",
   "execution_count": 15,
   "source": [
    "solution(200)"
   ],
   "outputs": [
    {
     "output_type": "stream",
     "name": "stdout",
     "text": [
      "2\n",
      "42\n",
      "442\n",
      "4442\n",
      "14442\n"
     ]
    },
    {
     "output_type": "execute_result",
     "data": {
      "text/plain": [
       "'14442'"
      ]
     },
     "metadata": {},
     "execution_count": 15
    }
   ],
   "metadata": {}
  },
  {
   "cell_type": "markdown",
   "source": [
    "1. 숫자 n이 3보다 크고 3으로 계속 나누어 지는지 체크(3진법으로 변환하기 위해)\n",
    "2. 숫자 n을 3으로 나눈 나머지가 0인지 본다\n",
    "3. 나누어 떨어지면 4, 계속 나눈몫으로 붙인다.\n",
    "4. 나누어 떨어지지 않으면 나머지를 붙인다."
   ],
   "metadata": {}
  },
  {
   "cell_type": "markdown",
   "source": [
    "3의 배수일 때 다음 자릿수가 1증가하는게 아니라서 1을 빼주는게 핵심"
   ],
   "metadata": {}
  }
 ],
 "metadata": {
  "orig_nbformat": 4,
  "language_info": {
   "name": "python",
   "version": "3.8.3",
   "mimetype": "text/x-python",
   "codemirror_mode": {
    "name": "ipython",
    "version": 3
   },
   "pygments_lexer": "ipython3",
   "nbconvert_exporter": "python",
   "file_extension": ".py"
  },
  "kernelspec": {
   "name": "python3",
   "display_name": "Python 3.8.3 64-bit ('base': conda)"
  },
  "interpreter": {
   "hash": "0d0f1ab1355a40fcf8dfd902ecd96580aebdbd2b735ef930594a0d03152e2824"
  }
 },
 "nbformat": 4,
 "nbformat_minor": 2
}