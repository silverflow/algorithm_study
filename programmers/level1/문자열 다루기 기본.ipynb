{
 "cells": [
  {
   "cell_type": "markdown",
   "metadata": {},
   "source": [
    "# 문자열 다루기 기본\n",
    "## 문제 설명\n",
    "문자열 s의 길이가 4 혹은 6이고, 숫자로만 구성돼있는지 확인해주는 함수, solution을 완성하세요. 예를 들어 s가 \"a234\"이면 False를 리턴하고 \"1234\"라면 True를 리턴하면 됩니다.\n",
    "## 제한 사항\n",
    "s는 길이 1 이상, 길이 8 이하인 문자열입니다.\n",
    "## 문제풀이"
   ]
  },
  {
   "cell_type": "code",
   "execution_count": null,
   "metadata": {},
   "outputs": [],
   "source": [
    "def solution(s):\n",
    "    if len(s) == 4 or len(s) == 6:\n",
    "        return s.isdigit()\n",
    "    else:\n",
    "        return False"
   ]
  },
  {
   "cell_type": "markdown",
   "metadata": {},
   "source": [
    "s의 문자열의 길이가 4또는 6일 때 isdigit함수로 해당하는 문자열이 숫자인지 아닌지 검사한 후 숫자면 True 아니면 False를 리턴해준다.\n",
    "\n",
    "isdigit은 해당하는 문자열이 숫자인지 아닌지를 판별하는 함수, 반대로 영어 혹은 한글로 되어있는지를 확인하려면 isalpha()를 사용하면 된다."
   ]
  },
  {
   "cell_type": "markdown",
   "metadata": {},
   "source": [
    "## 다른 풀이"
   ]
  },
  {
   "cell_type": "code",
   "execution_count": 1,
   "metadata": {},
   "outputs": [],
   "source": [
    "def alpha_string46(s):\n",
    "    return s.isdigit() and len(s) in (4, 6)"
   ]
  },
  {
   "cell_type": "markdown",
   "metadata": {},
   "source": [
    "내가 한 것이랑 방식은 같지만 좀더 깔끔한 버전\n",
    "\n",
    "len(s)의 값이 리스트 4,5에 포함되어 있나라는 코드라서 4또는 6이 된다."
   ]
  }
 ],
 "metadata": {
  "interpreter": {
   "hash": "ec6733732c021867206a8e18833e31d05e70dc3e52beb50e974a9bbb036905cf"
  },
  "kernelspec": {
   "display_name": "Python 3.8.8 64-bit ('base': conda)",
   "name": "python3"
  },
  "language_info": {
   "codemirror_mode": {
    "name": "ipython",
    "version": 3
   },
   "file_extension": ".py",
   "mimetype": "text/x-python",
   "name": "python",
   "nbconvert_exporter": "python",
   "pygments_lexer": "ipython3",
   "version": "3.8.8"
  },
  "orig_nbformat": 4
 },
 "nbformat": 4,
 "nbformat_minor": 2
}
