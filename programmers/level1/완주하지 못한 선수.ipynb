{
 "cells": [
  {
   "cell_type": "markdown",
   "source": [
    "## 문제 설명\n",
    "수많은 마라톤 선수들이 마라톤에 참여하였습니다. 단 한 명의 선수를 제외하고는 모든 선수가 마라톤을 완주하였습니다.\n",
    "\n",
    "마라톤에 참여한 선수들의 이름이 담긴 배열 participant와 완주한 선수들의 이름이 담긴 배열 completion이 주어질 때, 완주하지 못한 선수의 이름을 return 하도록 solution 함수를 작성해주세요.\n",
    "\n",
    "## 제한사항\n",
    "마라톤 경기에 참여한 선수의 수는 1명 이상 100,000명 이하입니다.\n",
    "completion의 길이는 participant의 길이보다 1 작습니다.\n",
    "참가자의 이름은 1개 이상 20개 이하의 알파벳 소문자로 이루어져 있습니다.\n",
    "참가자 중에는 동명이인이 있을 수 있습니다."
   ],
   "metadata": {}
  },
  {
   "cell_type": "markdown",
   "source": [
    "## 문제 풀이"
   ],
   "metadata": {}
  },
  {
   "cell_type": "markdown",
   "source": [
    "처음에는 배열 participant에 배열 completion이 포함되어 있지 않은 것만 따로 answer 배열에 넣어서 그 배열을 최종 리턴하려고 했다.\n",
    "\n",
    "그런데 동명이인의 경우에는 둘다 사라진다는 치명적인 단점이 존재했고 그래서 동명이인을 찾아서 그냥 그 동명이인을 마지막에 answer에 추가해주면 되겠지하고 동명이인 찾는 함수를 만들어서 answer에 동명이인을 넣어줬다.\n",
    "\n",
    "그러나 그 편법으로는 1,2,3번 예제는 통과했지만 정확성과 효율성 테스트에서 실패했다."
   ],
   "metadata": {}
  },
  {
   "cell_type": "code",
   "execution_count": null,
   "source": [
    "def find_overlap(array):\n",
    "    data = \"\"\n",
    "    length = len(array)\n",
    "    for i in range(0, length-1):\n",
    "        for j in range(i+1, length):\n",
    "            if array[i] == array [j]:\n",
    "                data += array[i]\n",
    "            break\n",
    "    return data\n",
    "def solution(participant, completion):\n",
    "    partiset = set(participant)\n",
    "    answer = \"\"\n",
    "    for i in participant:\n",
    "        if i in completion:\n",
    "            print()\n",
    "        else:\n",
    "            answer += i\n",
    "    if len(partiset) == len(completion):#중복제거한 배열과 완주한 배열의 크기가 같다면\n",
    "        answer += find_overlap(participant)\n",
    "    return answer"
   ],
   "outputs": [],
   "metadata": {}
  },
  {
   "cell_type": "markdown",
   "source": [
    "## 다른 풀이"
   ],
   "metadata": {}
  },
  {
   "cell_type": "markdown",
   "source": [
    "코드도 난잡하고 하드코딩식이라서 내가 너무 어렵게 하는게 아닌가 생각이 들었고 검색을 통하여 Collections 함수의 Counter 메소드를 알게되었다.\n",
    "\n",
    "Counter를 이용하면 배열간에 더하거나 빼거나 교집합, 합집합 등의 연산이 가능하다.\n",
    "\n",
    "다른 예라면 몰라도 완주를 못한 사람은 반드시 한 명 이라는 조건이기 때문에 이 경우에는 그냥 참가자에서 완주자의 목록만 빼주면 그 완주 못한 한 명을 구할 수 있다."
   ],
   "metadata": {}
  },
  {
   "cell_type": "code",
   "execution_count": 1,
   "source": [
    "import collections\n",
    "def solution(participant, completion):\n",
    "    answer = collections.Counter(participant) - collections.Counter(completion)\n",
    "    for key in answer:\n",
    "        return key"
   ],
   "outputs": [],
   "metadata": {}
  },
  {
   "cell_type": "markdown",
   "source": [
    "그러면 이렇게 간단한 코드를 얻을 수 있다. 참고해두어야할 것은 Counter 메소드는 항상 딕셔너리 타입으로 리턴하기 때문에 우리가 원하는 키값만을 받기 위해서는 list(answer.key())[0] 이렇게 하거나 위처럼 for문으로 key값을 추출하자 사실 for문을 돌릴 필요도 없이 0번째 밖에 키 값이 안들어있기 때문에 for문은 사실 오용에 가깝다."
   ],
   "metadata": {}
  }
 ],
 "metadata": {
  "orig_nbformat": 4,
  "language_info": {
   "name": "python",
   "version": "3.8.3",
   "mimetype": "text/x-python",
   "codemirror_mode": {
    "name": "ipython",
    "version": 3
   },
   "pygments_lexer": "ipython3",
   "nbconvert_exporter": "python",
   "file_extension": ".py"
  },
  "kernelspec": {
   "name": "python3",
   "display_name": "Python 3.8.3 64-bit ('base': conda)"
  },
  "interpreter": {
   "hash": "0d0f1ab1355a40fcf8dfd902ecd96580aebdbd2b735ef930594a0d03152e2824"
  }
 },
 "nbformat": 4,
 "nbformat_minor": 2
}