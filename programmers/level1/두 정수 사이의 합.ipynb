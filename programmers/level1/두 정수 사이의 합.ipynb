{
 "cells": [
  {
   "cell_type": "markdown",
   "source": [
    "# 두 정수 사이의 합\n",
    "## 문제 설명\n",
    "두 정수 a, b가 주어졌을 때 a와 b 사이에 속한 모든 정수의 합을 리턴하는 함수, solution을 완성하세요.\n",
    "\n",
    "예를 들어 a = 3, b = 5인 경우, 3 + 4 + 5 = 12이므로 12를 리턴합니다."
   ],
   "metadata": {}
  },
  {
   "cell_type": "markdown",
   "source": [
    "## 제한 조건\n",
    "\n",
    "- a와 b가 같은 경우는 둘 중 아무 수나 리턴하세요.\n",
    "- a와 b는 -10,000,000 이상 10,000,000 이하인 정수입니다.\n",
    "- a와 b의 대소관계는 정해져있지 않습니다.\n"
   ],
   "metadata": {}
  },
  {
   "cell_type": "markdown",
   "source": [
    "## 문제풀이"
   ],
   "metadata": {}
  },
  {
   "cell_type": "markdown",
   "source": [
    "\n",
    "1. 문제에서 a와 b의 대소관계는 정해져 있지 않다고 했지만 우리가 원하는 것은 최소값 부터 최대값까지의 범위이므로 만약 a가 b보다 더 크다면 이 둘의 순서를 바꿔주어야 한다.\n",
    "2. 해당하는 범위의 값들을 다 더한 값을 리턴해준다.\n"
   ],
   "metadata": {}
  },
  {
   "cell_type": "code",
   "execution_count": 1,
   "source": [
    "def solution(a, b):\n",
    "    answer = 0\n",
    "    if a>b:\n",
    "        a, b = b, a\n",
    "    for i in range(a,b+1):\n",
    "        answer += i\n",
    "    return answer"
   ],
   "outputs": [],
   "metadata": {}
  },
  {
   "cell_type": "markdown",
   "source": [
    "## 다른 풀이"
   ],
   "metadata": {}
  },
  {
   "cell_type": "code",
   "execution_count": null,
   "source": [
    "def solution(a, b):\n",
    "    if a > b: a, b = b, a\n",
    "    return sum(range(a,b+1))"
   ],
   "outputs": [],
   "metadata": {}
  },
  {
   "cell_type": "markdown",
   "source": [
    "같은 방식이지만 나는 일일히 다 더했지만 여기는 sum함수를 이용해서 처리했다. 같은 방식과 로직이지만 함수로 더 깔끔하게 표현했다."
   ],
   "metadata": {}
  },
  {
   "cell_type": "code",
   "execution_count": 2,
   "source": [
    "def solution(a, b):\n",
    "    return (abs(a-b)+1)*(a+b)//2"
   ],
   "outputs": [],
   "metadata": {}
  },
  {
   "cell_type": "markdown",
   "source": [
    "두 수 사이의 합을 구하는 공식(등차수열 1항부터 항까지의 합을 구하는 공식) 2분에 항의 개수 곱하기 첫항 더하기 끝항을 한다.\n",
    "\n",
    "단 여기서는 a와b의 대소관계가 정해져있지 않다고 했으니 abs함수로 절대값으로 처리했다."
   ],
   "metadata": {}
  }
 ],
 "metadata": {
  "orig_nbformat": 4,
  "language_info": {
   "name": "python",
   "version": "3.8.8",
   "mimetype": "text/x-python",
   "codemirror_mode": {
    "name": "ipython",
    "version": 3
   },
   "pygments_lexer": "ipython3",
   "nbconvert_exporter": "python",
   "file_extension": ".py"
  },
  "kernelspec": {
   "name": "python3",
   "display_name": "Python 3.8.8 64-bit ('base': conda)"
  },
  "interpreter": {
   "hash": "f66bcfef7bdebf4b35d79f8b86dd48e61805a157bec2c423df97858e845d01a1"
  }
 },
 "nbformat": 4,
 "nbformat_minor": 2
}