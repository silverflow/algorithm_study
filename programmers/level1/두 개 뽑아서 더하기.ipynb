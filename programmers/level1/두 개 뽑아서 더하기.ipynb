{
 "cells": [
  {
   "cell_type": "markdown",
   "source": [
    "# 두 개 뽑아서 더하기"
   ],
   "metadata": {}
  },
  {
   "cell_type": "markdown",
   "source": [
    "## 문제 설명\n",
    "정수 배열 numbers가 주어집니다. numbers에서 서로 다른 인덱스에 있는 두 개의 수를 뽑아 더해서 만들 수 있는 모든 수를 배열에 오름차순으로 담아 return 하도록 solution 함수를 완성해주세요.\n",
    "\n",
    "## 제한 사항\n",
    "- numbers의 길이는 2 이상 100 이하입니다.\n",
    "    - numbers의 모든 수는 0 이상 100 이하입니다."
   ],
   "metadata": {}
  },
  {
   "cell_type": "markdown",
   "source": [
    "## 입출력 예\n",
    "|numbers|result|\n",
    "|-------|------|\n",
    "|[2,1,3,4,1]|[2,3,4,5,6,7]|\n",
    "|[5,0,2,7]|[2,5,7,9,12]|"
   ],
   "metadata": {}
  },
  {
   "cell_type": "markdown",
   "source": [
    "## 입출력 예 설명\n",
    "### 입출력 예 #1\n",
    "\n",
    "- 2 = 1 + 1 입니다. (1이 numbers에 두 개 있습니다.)\n",
    "- 3 = 2 + 1 입니다.\n",
    "- 4 = 1 + 3 입니다.\n",
    "- 5 = 1 + 4 = 2 + 3 입니다.\n",
    "- 6 = 2 + 4 입니다.\n",
    "- 7 = 3 + 4 입니다.\n",
    "따라서 [2,3,4,5,6,7] 을 return 해야 합니다.\n",
    "### 입출력 예 #2\n",
    "\n",
    "- 2 = 0 + 2 입니다.\n",
    "- 5 = 5 + 0 입니다.\n",
    "- 7 = 0 + 7 = 5 + 2 입니다.\n",
    "- 9 = 2 + 7 입니다.\n",
    "- 12 = 5 + 7 입니다.\n",
    "따라서 [2,5,7,9,12] 를 return 해야 합니다"
   ],
   "metadata": {}
  },
  {
   "cell_type": "markdown",
   "source": [
    "## 문제 풀이"
   ],
   "metadata": {}
  },
  {
   "cell_type": "code",
   "execution_count": 1,
   "source": [
    "def solution(numbers):\n",
    "    sum_list = []\n",
    "    for idx, i in enumerate(numbers):\n",
    "        for j in numbers[idx+1:]:\n",
    "            sum_list.append(i+j)\n",
    "    return sorted(list(set(sum_list)))"
   ],
   "outputs": [],
   "metadata": {}
  },
  {
   "cell_type": "markdown",
   "source": [
    "- 이중포문으로 앞에서부터 각 한개씩 더한 값들을 sum_list에 넣는다.\n",
    "- 문제 조건에서 중복이 없고 순서대로라고 했으므로 set 자료형으로 중복을 제거하고 다시 리스트로 변환한 값을 sorted 함수로 정렬해준다."
   ],
   "metadata": {}
  },
  {
   "cell_type": "markdown",
   "source": [
    "## 다른 풀이"
   ],
   "metadata": {}
  },
  {
   "cell_type": "code",
   "execution_count": 7,
   "source": [
    "from itertools import combinations\n",
    "def solution(numbers):\n",
    "    answer = []\n",
    "    l = list(combinations(numbers, 2))\n",
    "    for i in l:\n",
    "        answer.append(i[0]+i[1])\n",
    "    answer = list(set(answer))\n",
    "    answer.sort()\n",
    "\n",
    "    return answer"
   ],
   "outputs": [],
   "metadata": {}
  },
  {
   "cell_type": "markdown",
   "source": [
    "- itertools의 combinationss를 통해서 조합을 구할 수 있다.\n",
    "- 순서 상관없이 고르는 게 조합\n",
    "- numbers 리스트에서 2개를 뽑은 조합"
   ],
   "metadata": {}
  }
 ],
 "metadata": {
  "orig_nbformat": 4,
  "language_info": {
   "name": "python",
   "version": "3.8.3",
   "mimetype": "text/x-python",
   "codemirror_mode": {
    "name": "ipython",
    "version": 3
   },
   "pygments_lexer": "ipython3",
   "nbconvert_exporter": "python",
   "file_extension": ".py"
  },
  "kernelspec": {
   "name": "python3",
   "display_name": "Python 3.8.3 64-bit ('base': conda)"
  },
  "interpreter": {
   "hash": "0d0f1ab1355a40fcf8dfd902ecd96580aebdbd2b735ef930594a0d03152e2824"
  }
 },
 "nbformat": 4,
 "nbformat_minor": 2
}