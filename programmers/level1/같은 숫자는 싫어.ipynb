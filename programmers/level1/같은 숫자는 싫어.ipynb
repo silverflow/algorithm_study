{
 "cells": [
  {
   "cell_type": "markdown",
   "source": [
    "# 같은 숫자는 싫어"
   ],
   "metadata": {}
  },
  {
   "cell_type": "markdown",
   "source": [
    "## 문제 설명"
   ],
   "metadata": {}
  },
  {
   "cell_type": "markdown",
   "source": [
    "배열 arr가 주어집니다. 배열 arr의 각 원소는 숫자 0부터 9까지로 이루어져 있습니다. 이때, 배열 arr에서 연속적으로 나타나는 숫자는 하나만 남기고 전부 제거하려고 합니다. 단, 제거된 후 남은 수들을 반환할 때는 배열 arr의 원소들의 순서를 유지해야 합니다. 예를 들면,\n",
    "- arr = [1, 1, 3, 3, 0, 1, 1] 이면 [1, 3, 0, 1] 을 return 합니다.\n",
    "- arr = [4, 4, 4, 3, 3] 이면 [4, 3] 을 return 합니다.\n",
    "\n",
    "배열 arr에서 연속적으로 나타나는 숫자는 제거하고 남은 수들을 return 하는 solution 함수를 완성해 주세요."
   ],
   "metadata": {}
  },
  {
   "cell_type": "markdown",
   "source": [
    "## 제한사항\n",
    "- 배열 arr의 크기 : 1,000,000 이하의 자연수\n",
    "- 배열 arr의 원소의 크기 : 0보다 크거나 같고 9보다 작거나 같은 정수\n"
   ],
   "metadata": {}
  },
  {
   "cell_type": "markdown",
   "source": [
    "## 문제 풀이"
   ],
   "metadata": {}
  },
  {
   "cell_type": "markdown",
   "source": [
    "1. 연속된' 중복을 제거하고 담을 빈 배열하나를 초기화해준다.\n",
    "2. 첫번째는 무조건 중복되지 않으므로 값을 넣어준다.\n",
    "3. 매게변수로 받은 배열을 처음부터 끝가지 돌면서 그 이전 것과 중복되지 않을 때만 값을 넣어준다."
   ],
   "metadata": {}
  },
  {
   "cell_type": "code",
   "execution_count": 1,
   "source": [
    "def solution(arr):\n",
    "    answer = []\n",
    "    answer.append(arr[0])\n",
    "    for i in range(1,len(arr)):\n",
    "        if arr[i] != arr[i-1]:\n",
    "            answer.append(arr[i])\n",
    "    return answer"
   ],
   "outputs": [],
   "metadata": {}
  },
  {
   "cell_type": "markdown",
   "source": [
    "## 다른 풀이"
   ],
   "metadata": {}
  },
  {
   "cell_type": "code",
   "execution_count": 2,
   "source": [
    "def no_continuous(s):\n",
    "    a = []\n",
    "    for i in s:\n",
    "        if a[-1:] == [i]: continue\n",
    "        a.append(i)\n",
    "    return a"
   ],
   "outputs": [],
   "metadata": {}
  },
  {
   "cell_type": "markdown",
   "source": [
    "슬라이스로 인덱스를 찾으면 빈 배열에서 찾아도 out of range 에러를 뱉지 않는다.(그냥 a[-1]로 적으면 a가 빈배열일 때 에러를 뱉는다.)\n",
    "\n",
    "만약 배열 마지막 인덱스가 집어넣으려는 i랑 같다면 지나치고 그게 아니라면 i 값을 넣어준다."
   ],
   "metadata": {}
  }
 ],
 "metadata": {
  "orig_nbformat": 4,
  "language_info": {
   "name": "python",
   "version": "3.8.8",
   "mimetype": "text/x-python",
   "codemirror_mode": {
    "name": "ipython",
    "version": 3
   },
   "pygments_lexer": "ipython3",
   "nbconvert_exporter": "python",
   "file_extension": ".py"
  },
  "kernelspec": {
   "name": "python3",
   "display_name": "Python 3.8.8 64-bit ('base': conda)"
  },
  "interpreter": {
   "hash": "f66bcfef7bdebf4b35d79f8b86dd48e61805a157bec2c423df97858e845d01a1"
  }
 },
 "nbformat": 4,
 "nbformat_minor": 2
}