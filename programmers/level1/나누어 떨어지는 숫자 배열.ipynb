{
 "cells": [
  {
   "cell_type": "markdown",
   "source": [
    "# 나누어 떨어지는 숫자 배열"
   ],
   "metadata": {}
  },
  {
   "cell_type": "markdown",
   "source": [
    "## 문제 설명\n",
    "array의 각 element 중 divisor로 나누어 떨어지는 값을 오름차순으로 정렬한 배열을 반환하는 함수, solution을 작성해주세요.\n",
    "\n",
    "divisor로 나누어 떨어지는 element가 하나도 없다면 배열에 -1을 담아 반환하세요."
   ],
   "metadata": {}
  },
  {
   "cell_type": "markdown",
   "source": [
    "## 제한사항\n",
    "\n",
    "    arr은 자연수를 담은 배열입니다.\n",
    "    정수 i, j에 대해 i ≠ j 이면 arr[i] ≠ arr[j] 입니다.\n",
    "    divisor는 자연수입니다.\n",
    "    array는 길이 1 이상인 배열입니다.\n"
   ],
   "metadata": {}
  },
  {
   "cell_type": "markdown",
   "source": [
    "## 문제 풀이\n",
    "\n",
    "1. 배열을 하나씩 꺼내서 divisor로 나눈 나머지가 0이라면(딱 떨어지게 나누어진다면) answer배열에 해당하는 배열을 추가해준다.\n",
    "2. 만약 answer배열에 추가된 것이 아무 것도 없다면 -1을 추가해준다.\n",
    "3. answer배열을 소팅해준다.\n"
   ],
   "metadata": {}
  },
  {
   "cell_type": "code",
   "execution_count": null,
   "source": [
    "def solution(arr, divisor):\n",
    "    answer = []\n",
    "    for i in arr:\n",
    "        if i % divisor == 0 : answer.append(i)\n",
    "    if len(answer) == 0 : answer.append(-1)\n",
    "    answer.sort()\n",
    "    return answer"
   ],
   "outputs": [],
   "metadata": {}
  },
  {
   "cell_type": "markdown",
   "source": [
    "## 다른 풀이"
   ],
   "metadata": {}
  },
  {
   "cell_type": "code",
   "execution_count": 1,
   "source": [
    "def solution(arr, divisor): return sorted([n for n in arr if n%divisor == 0]) or [-1]"
   ],
   "outputs": [],
   "metadata": {}
  },
  {
   "cell_type": "markdown",
   "source": [
    "arr에서 divisor로 나눈 나머지가 0인 n을 sorted해서 리턴하는 것은 같지만 or 문을 사용해서 만약 n이 False이면 -1을 리턴하도록 했다.\n",
    "\n",
    "or문을 이렇게도 활용할 수 있다는 것을 보여준 케이스"
   ],
   "metadata": {}
  }
 ],
 "metadata": {
  "orig_nbformat": 4,
  "language_info": {
   "name": "python",
   "version": "3.8.8",
   "mimetype": "text/x-python",
   "codemirror_mode": {
    "name": "ipython",
    "version": 3
   },
   "pygments_lexer": "ipython3",
   "nbconvert_exporter": "python",
   "file_extension": ".py"
  },
  "kernelspec": {
   "name": "python3",
   "display_name": "Python 3.8.8 64-bit ('base': conda)"
  },
  "interpreter": {
   "hash": "f66bcfef7bdebf4b35d79f8b86dd48e61805a157bec2c423df97858e845d01a1"
  }
 },
 "nbformat": 4,
 "nbformat_minor": 2
}