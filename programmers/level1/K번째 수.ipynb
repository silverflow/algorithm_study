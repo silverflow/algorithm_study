{
 "cells": [
  {
   "cell_type": "markdown",
   "source": [
    "# K번째 수"
   ],
   "metadata": {}
  },
  {
   "cell_type": "markdown",
   "source": [
    "## 문제 설명\n",
    "배열 array의 i번째 숫자부터 j번째 숫자까지 자르고 정렬했을 때, k번째에 있는 수를 구하려 합니다.  \n",
    "  \n",
    "예를 들어 array가 [1, 5, 2, 6, 3, 7, 4], i = 2, j = 5, k = 3이라면  \n",
    "  \n",
    "1. array의 2번째부터 5번째까지 자르면 [5, 2, 6, 3]입니다.\n",
    "2. 1에서 나온 배열을 정렬하면 [2, 3, 5, 6]입니다.\n",
    "3. 2에서 나온 배열의 3번째 숫자는 5입니다.\n",
    "  \n",
    "배열 array, [i, j, k]를 원소로 가진 2차원 배열 commands가 매개변수로 주어질 때, commands의 모든 원소에 대해 앞서 설명한 연산을 적용했을 때 나온 결과를 배열에 담아 return 하도록 solution 함수를 작성해주세요."
   ],
   "metadata": {}
  },
  {
   "cell_type": "markdown",
   "source": [
    "## 제한 사항\n",
    "    array의 길이는 1 이상 100 이하입니다.\n",
    "    array의 각 원소는 1 이상 100 이하입니다.\n",
    "    commands의 길이는 1 이상 50 이하입니다.\n",
    "    commands의 각 원소는 길이가 3입니다.\n",
    "\n"
   ],
   "metadata": {}
  },
  {
   "cell_type": "markdown",
   "source": [
    "## 문제풀이\n",
    "1. 2차원 배열을 이중for문으로 나열한다.\n",
    "\n",
    "2. 나열한 값을 각각 s_num(자르기 시작한 인덱스), e_num(자르기가 끝날 지점 인덱스), slice_num(짜른 후 고를 번호의 인덱스)에 대입해준다.\n",
    "\n",
    "3. 임시 배열 temp에 s_num부터(이때 -1을 해줘야한다) e_num까지를 넣고 이 배열의 slice_num번째(이것도 -1)를 answer에 넣어준다.\n"
   ],
   "metadata": {}
  },
  {
   "cell_type": "code",
   "execution_count": 1,
   "source": [
    "def solution(array, commands):\n",
    "        answer = []\n",
    "        temp = []\n",
    "        cnt = 0\n",
    "        for i in range(len(commands)):\n",
    "            for j in range(3):\n",
    "                if cnt == 0:\n",
    "                    s_num = commands[i][j]\n",
    "                    cnt += 1\n",
    "                    continue\n",
    "                if cnt == 1:\n",
    "                    e_num = commands[i][j]\n",
    "                    cnt += 1\n",
    "                    continue\n",
    "                if cnt == 2:\n",
    "                    slice_num = commands[i][j]\n",
    "                    temp = array[s_num-1:e_num]\n",
    "                    temp.sort()\n",
    "                    answer.append(temp[(slice_num)-1])\n",
    "                    cnt =0\n",
    "                    continue\n",
    "    \n",
    "        return answer"
   ],
   "outputs": [],
   "metadata": {}
  },
  {
   "cell_type": "markdown",
   "source": [
    "commands의 길이가 3으로 정해져있다는 점을 이용해서 스위치문처럼 cnt변수를 사용해 3개의 원소를 저장한 뒤에 바로 원하는 값을 계산한 뒤에 answer에 값을 리턴하도록 구성했다.\n",
    "\n",
    "그래서 코드가 길어지고 난잡해지게 됐는데 람다식을 이용하면 좀더 깔끔하게 표현할 수 있다."
   ],
   "metadata": {}
  },
  {
   "cell_type": "markdown",
   "source": [
    "## 다른 풀이"
   ],
   "metadata": {}
  },
  {
   "cell_type": "code",
   "execution_count": 2,
   "source": [
    "def solution(array, commands): return list(map(lambda x:sorted(array[x[0]-1:x[1]])[x[2]-1], commands))"
   ],
   "outputs": [],
   "metadata": {}
  },
  {
   "cell_type": "markdown",
   "source": [
    "이건 뭐...내가 지금까지 한 게 헛짓거리라고 생각할 정도로 말이 안나오는 간단함이다. lamdba를 이용해서 알고리즘을 함수화하고 정렬한 뒤에 리턴한다.\n",
    "\n",
    "설명을 하자면 list(map(함수, 리스트)) map은 이런식으로 리스트의 요소를 지정된 함수로 처리해주는 함수다. 참고로 map은 원본 리스트를 변경하지 않고 새 리스트를 생성한다.\n",
    "\n",
    "우선 array의 첫번째 인덱스를 가진 값부터 두번째 인덱스까지의 배열을 정렬한다.(x는 commands에서 추출한 인덱스 값)\n",
    "\n",
    "그 정렬한 x의 x[x[2]-1]번째 값을 list로 리턴시키는 방법이다. 당연히 x[2]-1은 commands의 각 배열의 2번째 요소이다.\n",
    "\n",
    "간단해보이지만 맵과 람다식 모두를 잘 알고있어야 가능한 콤비네이션."
   ],
   "metadata": {}
  },
  {
   "cell_type": "code",
   "execution_count": 3,
   "source": [
    "def solution(array, commands):\n",
    "        answer = []\n",
    "        for command in commands:\n",
    "            i,j,k = command\n",
    "            answer.append(list(sorted(array[i-1:j]))[k-1])\n",
    "        return answer"
   ],
   "outputs": [],
   "metadata": {}
  },
  {
   "cell_type": "markdown",
   "source": [
    "내가 한 방식이랑 크게 보면 같지만 나는 파이썬에서 i,j,k가 한번에 입력이 가능하다는 것을 몰라서 for문으로 다 돌려서 일일히 넣는 수고스러운 일을 했다.\n",
    "\n",
    "하지만 이런 방법으로도 넣을 수 있다는 것을 알게되어서 살짝 현자타임이 느껴지지만 파이썬의 위대함을 다시한번 깨달을 수 있었다. 너무 자바에 길들여져 있었나."
   ],
   "metadata": {}
  }
 ],
 "metadata": {
  "orig_nbformat": 4,
  "language_info": {
   "name": "python",
   "version": "3.8.8",
   "mimetype": "text/x-python",
   "codemirror_mode": {
    "name": "ipython",
    "version": 3
   },
   "pygments_lexer": "ipython3",
   "nbconvert_exporter": "python",
   "file_extension": ".py"
  },
  "kernelspec": {
   "name": "python3",
   "display_name": "Python 3.8.8 64-bit ('base': conda)"
  },
  "interpreter": {
   "hash": "f66bcfef7bdebf4b35d79f8b86dd48e61805a157bec2c423df97858e845d01a1"
  }
 },
 "nbformat": 4,
 "nbformat_minor": 2
}