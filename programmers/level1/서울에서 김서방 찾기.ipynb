{
 "cells": [
  {
   "cell_type": "markdown",
   "metadata": {},
   "source": [
    "# 서울에서 김서방 찾기\n",
    "## 문제 설명\n",
    "String형 배열 seoul의 element중 \"Kim\"의 위치 x를 찾아, \"김서방은 x에 있다\"는 String을 반환하는 함수, solution을 완성하세요. seoul에 \"Kim\"은 오직 한 번만 나타나며 잘못된 값이 입력되는 경우는 없습니다.\n",
    "## 제한 사항\n",
    "seoul은 길이 1 이상, 1000 이하인 배열입니다.\n",
    "seoul의 원소는 길이 1 이상, 20 이하인 문자열입니다.\n",
    "Kim은 반드시 seoul 안에 포함되어 있습니다.\n",
    "## 문제 풀이\n"
   ]
  },
  {
   "cell_type": "code",
   "execution_count": null,
   "metadata": {},
   "outputs": [],
   "source": [
    "def solution(seoul):\n",
    "    return \"김서방은 \"+str(seoul.index(\"Kim\"))+\"에 있다\""
   ]
  },
  {
   "cell_type": "markdown",
   "metadata": {},
   "source": [
    "나는 귀찮아서 그냥 스트링값으로 다 더해서 넘겼지만 파이썬의 format함수을 이용하는 방법도 있다."
   ]
  },
  {
   "cell_type": "code",
   "execution_count": 1,
   "metadata": {},
   "outputs": [],
   "source": [
    "def solution(seoul):\n",
    "    return f\"김서방은 {seonul.index('Kim')}에 있다\""
   ]
  }
 ],
 "metadata": {
  "interpreter": {
   "hash": "dece7174da6938c90faf8cd745e85ea5e7f9fe8618a4c663c90b3670fd917131"
  },
  "kernelspec": {
   "display_name": "Python 3.8.3 64-bit ('base': conda)",
   "name": "python3"
  },
  "language_info": {
   "codemirror_mode": {
    "name": "ipython",
    "version": 3
   },
   "file_extension": ".py",
   "mimetype": "text/x-python",
   "name": "python",
   "nbconvert_exporter": "python",
   "pygments_lexer": "ipython3",
   "version": "3.8.3"
  },
  "orig_nbformat": 4
 },
 "nbformat": 4,
 "nbformat_minor": 2
}
