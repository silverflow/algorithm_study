{
 "cells": [
  {
   "cell_type": "markdown",
   "source": [
    "# 모의고사"
   ],
   "metadata": {}
  },
  {
   "cell_type": "markdown",
   "source": [
    "## 문제설명\n",
    "수포자는 수학을 포기한 사람의 준말입니다. 수포자 삼인방은 모의고사에 수학 문제를 전부 찍으려 합니다. 수포자는 1번 문제부터 마지막 문제까지 다음과 같이 찍습니다.\n",
    "\n",
    "1번 수포자가 찍는 방식: 1, 2, 3, 4, 5, 1, 2, 3, 4, 5, ...\n",
    "2번 수포자가 찍는 방식: 2, 1, 2, 3, 2, 4, 2, 5, 2, 1, 2, 3, 2, 4, 2, 5, ...\n",
    "3번 수포자가 찍는 방식: 3, 3, 1, 1, 2, 2, 4, 4, 5, 5, 3, 3, 1, 1, 2, 2, 4, 4, 5, 5, ...\n",
    "\n",
    "1번 문제부터 마지막 문제까지의 정답이 순서대로 들은 배열 answers가 주어졌을 때, 가장 많은 문제를 맞힌 사람이 누구인지 배열에 담아 return 하도록 solution 함수를 작성해주세요."
   ],
   "metadata": {}
  },
  {
   "cell_type": "markdown",
   "source": [
    "## 제한 조건"
   ],
   "metadata": {}
  },
  {
   "cell_type": "markdown",
   "source": [
    "\n",
    "시험은 최대 10,000 문제로 구성되어있습니다.\n",
    "문제의 정답은 1, 2, 3, 4, 5중 하나입니다.\n",
    "가장 높은 점수를 받은 사람이 여럿일 경우, return하는 값을 오름차순 정렬해주세요.\n"
   ],
   "metadata": {}
  },
  {
   "cell_type": "markdown",
   "source": [
    "## 문제풀이"
   ],
   "metadata": {}
  },
  {
   "cell_type": "code",
   "execution_count": null,
   "source": [
    "from itertools import cycle\n",
    "def solution(answers):\n",
    "    answer = []\n",
    "    supo1_p = [1,2,3,4,5]\n",
    "    supo2_p = [2,1,2,3,2,4,2,5]\n",
    "    supo3_p = [3,3,1,1,2,2,4,4,5,5]\n",
    "    score = [0,0,0]\n",
    "    for supo1, supo2, supo3, i in zip(cycle(supo1_p), cycle(supo2_p), cycle(supo3_p), answers):\n",
    "        if supo1 == i :\n",
    "            score[0] += 1\n",
    "        if supo2 == i :\n",
    "            score[1] += 1\n",
    "        if supo3 == i :\n",
    "            score[2] += 1\n",
    "    for j, k in enumerate(score):\n",
    "        if k == max(score):\n",
    "            answer.append(j+1)\n",
    "\n",
    "    return answer"
   ],
   "outputs": [],
   "metadata": {}
  },
  {
   "cell_type": "markdown",
   "source": [
    "수포자 3명의 패턴(순환집합)을 선언하고 그걸 itertools의 cycle로 순환시킨다.  \n",
    "\n",
    "그래서 for문으로 하나씩 비교해서 패턴과 정답 배열 answers가 일치한다면 1번 수포자가 일치하면 score 0번째 배열에 1씩 추가하고 2번 수포자가 일치하면 score 1번째 배열에 1씩 추가하는 식으로 score배열에 정답 점수를 넣는다.  \n",
    "\n",
    "이제 이 score배열에서 최대값을 뽑아내야 하는데, 만약 동점인 최대값이 존재한다면 max함수로는 한 개의 값밖에 추출할 수 없으므로  \n",
    "\n",
    "answer 배열을 또 추가해서 그곳에 score 배열의 최대값과 같을 경우에 해당하는 배열(최대값인 배열 넘버)를 넣어준다.  \n",
    "\n",
    "만약 수포자 세명이 각각 2,2,2점씩 나왔다면 최대값은 2가 되므로 for문으로 0부터 2번째칸까지 돌아가면서 2점일 경우에 해당하는 칸을 append해서 추가한다.  \n",
    "\n",
    "단 주의할 것은 여기서 for문으로 돌리는건 0부터 돌아가므로 +1을 해줘야지만 배열넘버가 아니라 우리가 원하는 수포자1,2,3의 이름을 얻게된다.  "
   ],
   "metadata": {}
  },
  {
   "cell_type": "markdown",
   "source": [
    "## 다른풀이"
   ],
   "metadata": {}
  },
  {
   "cell_type": "code",
   "execution_count": 1,
   "source": [
    "def solution(answers):\n",
    "    pattern1 = [1,2,3,4,5]\n",
    "    pattern2 = [2,1,2,3,2,4,2,5]\n",
    "    pattern3 = [3,3,1,1,2,2,4,4,5,5]\n",
    "    score = [0, 0, 0]\n",
    "    result = []\n",
    "\n",
    "    for idx, answer in enumerate(answers):\n",
    "        if answer == pattern1[idx%len(pattern1)]:\n",
    "            score[0] += 1\n",
    "        if answer == pattern2[idx%len(pattern2)]:\n",
    "            score[1] += 1\n",
    "        if answer == pattern3[idx%len(pattern3)]:\n",
    "            score[2] += 1\n",
    "\n",
    "    for idx, s in enumerate(score):\n",
    "        if s == max(score):\n",
    "            result.append(idx+1)\n",
    "\n",
    "    return result"
   ],
   "outputs": [],
   "metadata": {}
  },
  {
   "cell_type": "markdown",
   "source": [
    "나는 itertools의 cycle을 사용해서 패턴을 순환하도록 만들었는데, itertools를 import하지 않더라도 순수 python만으로도 깔끔하게 만든 코드가 있어서 소개한다.   \n",
    "\n",
    "패턴의 길이를 idx로 나눈 이유는 패턴마다 순환의 길이가 다르기 때문에 순환주기만큼 나누어 주었다. 이렇게 하지 않는다면 순환주기마다 초기화를 해줘야하는 번거로움이 생긴다."
   ],
   "metadata": {}
  }
 ],
 "metadata": {
  "orig_nbformat": 4,
  "language_info": {
   "name": "python",
   "version": "3.8.8",
   "mimetype": "text/x-python",
   "codemirror_mode": {
    "name": "ipython",
    "version": 3
   },
   "pygments_lexer": "ipython3",
   "nbconvert_exporter": "python",
   "file_extension": ".py"
  },
  "kernelspec": {
   "name": "python3",
   "display_name": "Python 3.8.8 64-bit ('base': conda)"
  },
  "interpreter": {
   "hash": "f66bcfef7bdebf4b35d79f8b86dd48e61805a157bec2c423df97858e845d01a1"
  }
 },
 "nbformat": 4,
 "nbformat_minor": 2
}